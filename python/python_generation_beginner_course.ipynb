{
 "cells": [
  {
   "cell_type": "markdown",
   "id": "667215d9",
   "metadata": {},
   "source": [
    "# Поколение Python: Начинающий."
   ]
  },
  {
   "cell_type": "markdown",
   "id": "ba855df1",
   "metadata": {},
   "source": [
    "## 1. Самописный калькулятор\n",
    "\n",
    "Программа, которая считывает с клавиатуры два целых числа и строку. Если эта строка является обозначением одной из четырёх математических операций (+, -, *, /), то выводится результат применения этой операции к введённым ранее числам, в противном случае выводит «Неверная операция». Если пользователь захочет поделить на ноль, выведите текст «На ноль делить нельзя!»."
   ]
  },
  {
   "cell_type": "code",
   "execution_count": null,
   "id": "185ec989",
   "metadata": {
    "scrolled": true
   },
   "outputs": [],
   "source": [
    "x1, x2 = int(input()), int(input())\n",
    "s = input()\n",
    "if s == '+':\n",
    "    print(x1 + x2)\n",
    "elif s == '-':\n",
    "    print(x1 - x2)\n",
    "elif s == '*':\n",
    "    print(x1 * x2)\n",
    "elif s == '/':\n",
    "    if x2 == 0:\n",
    "        print('На ноль делить нельзя!')\n",
    "    else:\n",
    "        print(x1 / x2)\n",
    "else:\n",
    "    print('Неверная операция')"
   ]
  },
  {
   "cell_type": "markdown",
   "id": "6f426d1f",
   "metadata": {},
   "source": [
    "## 2. Цветовой микшер\n",
    "\n",
    "Программа, которая считывает названия двух основных цветов для смешивания. Если вводится что-нибудь помимо названий «красный», «синий» или «желтый», то выводится сообщение об ошибке. В противном случае выводится название вторичного цвета, который получится в результате."
   ]
  },
  {
   "cell_type": "code",
   "execution_count": null,
   "id": "59734c36",
   "metadata": {},
   "outputs": [],
   "source": [
    "c1, c2 = input(), input()\n",
    "if c1 == 'красный' and  c2 == 'синий' or c2 == 'красный' and  c1 == 'синий':\n",
    "    print('фиолетовый')\n",
    "elif c1 == 'красный' and c2 == 'красный':\n",
    "    print('красный')\n",
    "elif c1 == 'красный' and c2 == 'желтый' or c2 == 'красный' and c1 == 'желтый':\n",
    "    print('оранжевый')\n",
    "elif c1 == c2 == 'желтый':\n",
    "    print('желтый')\n",
    "elif c1 == 'синий' and c2 == 'желтый' or c2 == 'синий' and c1 == 'желтый':\n",
    "    print ('зеленый')\n",
    "elif c1 == c2 == 'синий':\n",
    "    print('синий')\n",
    "else:\n",
    "    print('ошибка цвета')"
   ]
  },
  {
   "cell_type": "markdown",
   "id": "72aefaba",
   "metadata": {},
   "source": [
    "## 3. Цвета колеса рулетки\n",
    "\n",
    "Программа, которая считывает номер кармана рулетки и показывает, является ли этот карман зеленым, красным или черным. Если вводится число, которое лежит вне диапазона от 0 до 36, выводится сообщение об ошибке."
   ]
  },
  {
   "cell_type": "code",
   "execution_count": null,
   "id": "2d3f2f4f",
   "metadata": {},
   "outputs": [],
   "source": [
    "x = int(input())\n",
    "if x == 0:\n",
    "    print('зеленый')\n",
    "elif 1 <= x <= 10:\n",
    "    if x % 2 == 0:\n",
    "        print('черный')\n",
    "    else:\n",
    "        print('красный')\n",
    "elif 10 < x <= 18:\n",
    "    if x % 2 == 0:\n",
    "        print('красный')\n",
    "    else:\n",
    "        print('черный')\n",
    "elif 19 <= x <= 28:\n",
    "    if x % 2 == 0:\n",
    "        print('черный')\n",
    "    else:\n",
    "        print('красный')\n",
    "elif 29 <= x <= 36:\n",
    "    if x % 2 == 0:\n",
    "        print('красный')\n",
    "    else:\n",
    "        print('черный')\n",
    "else:\n",
    "    print('ошибка ввода')"
   ]
  },
  {
   "cell_type": "markdown",
   "id": "6106f44f",
   "metadata": {},
   "source": [
    "## 4. Пересечение отрезков\n",
    "\n",
    "На числовой прямой даны два отрезка: [a1;b1] и [a2;b2]. Программа находит их пересечение. Пересечение двух отрезков может быть: точка, отрезок, пустое множество. Гарантируется, что a1 < b1 и a2 < b2."
   ]
  },
  {
   "cell_type": "code",
   "execution_count": null,
   "id": "b14474f1",
   "metadata": {},
   "outputs": [],
   "source": [
    "a1, b1, a2, b2 = int(input()), int(input()), int(input()), int(input()),\n",
    "if a2 > a1 < b2 and b2 > b1 < a2:\n",
    "    print('пустое множество')\n",
    "elif b1 > a2 < a1 and a1 > b2 < b1:\n",
    "    print('пустое множество')\n",
    "elif b2 > a1 < a2 and b2 < b1 > a2:\n",
    "    print(a2, b2)\n",
    "elif b2 > a1 < a2 and b2 > b1 > a2:\n",
    "    print(a2, b1)\n",
    "elif b1 > a2 < a1 and b1 > b2 > a1:\n",
    "    print(a1, b2)\n",
    "elif b1 > a2 < a1 and b1 < b2 > a1:\n",
    "    print(a1, b1)\n",
    "elif b2 > a1 < a2 and b2 > b1 == a2:\n",
    "    print(b1)\n",
    "elif b1 > a2 < a1 and b1 > b2 == a1:\n",
    "    print(b2)\n",
    "elif b2 > a1 == a2 and b2 == b1 > a2:\n",
    "    print(a1, b1)\n",
    "elif b2 > a1 == a2 and b2 > b1 > a2:\n",
    "    print(a1, b1)\n",
    "elif b1 > a2 < a1 and b1 == b2 < a1:\n",
    "    print(a1, b1)\n",
    "elif b2 > a1 < a2 and b2 == b1 > a2:\n",
    "    print(a2, b2)\n",
    "elif b2 > a1 == a2 and b2 < b1 > a2:\n",
    "    print(a2, b2)\n",
    "elif b2 > a1 > a2 and a2 < b1 == b2:\n",
    "    print(a1, b1)"
   ]
  },
  {
   "cell_type": "markdown",
   "id": "ba361a1a",
   "metadata": {},
   "source": [
    "## 5. Сортировка трёх\n",
    "\n",
    "Программа упорядочивает три числа от большего к меньшему."
   ]
  },
  {
   "cell_type": "code",
   "execution_count": null,
   "id": "792ce8de",
   "metadata": {},
   "outputs": [],
   "source": [
    "x1, x2, x3 = int(input()), int(input()), int(input())\n",
    "print(max(x1, x2, x3)), print(x1 + x2 +x3 - (max(x1, x2, x3) + min(x1, x2, x3)))\n",
    "print(min(x1, x2, x3))"
   ]
  },
  {
   "cell_type": "markdown",
   "id": "61555a67",
   "metadata": {},
   "source": [
    "## 6. Квадратное уравнение\n",
    "\n",
    "Программа находит корни квадратного уравнения. На вход программе подается три вещественных числа, каждое на отдельной строке."
   ]
  },
  {
   "cell_type": "code",
   "execution_count": null,
   "id": "e21a2847",
   "metadata": {},
   "outputs": [],
   "source": [
    "from math import *\n",
    "a, b, c = float(input()), float(input()), float(input())\n",
    "D = b ** 2 - 4 * a * c\n",
    "if D > 0:\n",
    "    x1 = (-b - sqrt(D)) / (2 * a)\n",
    "    x2 = (-b + sqrt(D)) / (2 * a)\n",
    "    print(min(x1 , x2)), print(max(x1, x2))\n",
    "elif D == 0:\n",
    "    print(-b / (2 * a))\n",
    "else:\n",
    "    print('Нет корней')"
   ]
  },
  {
   "cell_type": "markdown",
   "id": "16609749",
   "metadata": {},
   "source": [
    "## 7. Последовательность чисел 1\n",
    "\n",
    "Даны два целых числа m и n. Программа выводит все числа от m до n включительно в порядке возрастания, если m < n, или в порядке убывания в противном случае."
   ]
  },
  {
   "cell_type": "code",
   "execution_count": null,
   "id": "81ac5549",
   "metadata": {},
   "outputs": [],
   "source": [
    "m, n = int(input()), int(input())\n",
    "if m <= n:\n",
    "    for i in range(m, n + 1):\n",
    "        print(i)\n",
    "else:\n",
    "    for i in range(m, n - 1, -1):\n",
    "        print(i)"
   ]
  },
  {
   "cell_type": "markdown",
   "id": "5db146c6",
   "metadata": {},
   "source": [
    "## 8. Последовательность чисел 2\n",
    "\n",
    "Программа выводит все нечетные числа от m до n включительно в порядке убывания (m > n)."
   ]
  },
  {
   "cell_type": "code",
   "execution_count": null,
   "id": "d21c1b9e",
   "metadata": {},
   "outputs": [],
   "source": [
    "m, n = int(input()), int(input())\n",
    "for i in range(m, n - 1, -1):\n",
    "    if i % 2 != 0:\n",
    "        print(i)"
   ]
  },
  {
   "cell_type": "markdown",
   "id": "dcfca1ed",
   "metadata": {},
   "source": [
    "## 9. Наибольшие числа\t\n",
    "\n",
    "Программа выводит наибольшее и второе наибольшее число последовательности. На вход программе подается натуральное число n (n >= 2), а затем n различных натуральных чисел, каждое на отдельной строке."
   ]
  },
  {
   "cell_type": "code",
   "execution_count": null,
   "id": "22a6efb7",
   "metadata": {},
   "outputs": [],
   "source": [
    "n = int(input())\n",
    "max1 = 1\n",
    "max2 = 1\n",
    "for i in range(n):\n",
    "    num = int(input())\n",
    "    if num > max1:\n",
    "        max2 = max1\n",
    "        max1 = num\n",
    "    elif num > max2:\n",
    "        max2 = num\n",
    "print(max1); print(max2)"
   ]
  },
  {
   "cell_type": "markdown",
   "id": "2279f6e8",
   "metadata": {},
   "source": [
    "## 10. Только четные числа\t\n",
    "\n",
    "Программа считывает последовательность из 10 целых чисел и определяет является ли каждое из них четным или нет."
   ]
  },
  {
   "cell_type": "code",
   "execution_count": null,
   "id": "8fb3b9e9",
   "metadata": {},
   "outputs": [],
   "source": [
    "count = 0\n",
    "for i in range(1, 11):\n",
    "    n = int(input())\n",
    "    if n % 2 == 0:\n",
    "        count += 1\n",
    "if count == 10:\n",
    "    print('YES')\n",
    "else:\n",
    "    print('NO')"
   ]
  },
  {
   "cell_type": "markdown",
   "id": "0ba828af",
   "metadata": {},
   "source": [
    "## 11. Последовательность Фибоначчи\t\n",
    "\n",
    "Программа считывает натуральное число n (n <= 100) и выводит первые n чисел последовательности Фибоначчи."
   ]
  },
  {
   "cell_type": "code",
   "execution_count": null,
   "id": "b33d75e2",
   "metadata": {},
   "outputs": [],
   "source": [
    "n = int(input())\n",
    "x1 = 0\n",
    "x2 = 1\n",
    "for i in range(1, n + 1):\n",
    "    x1, x2 = x2, x1 + x2\n",
    "    print(x1, end=' ')"
   ]
  },
  {
   "cell_type": "markdown",
   "id": "8e87e198",
   "metadata": {},
   "source": [
    "## 12. Упорядоченные цифры\t\n",
    "\n",
    "Дано натуральное число. Программа определяет является ли последовательность его цифр при просмотре справа налево упорядоченной по неубыванию."
   ]
  },
  {
   "cell_type": "code",
   "execution_count": null,
   "id": "0140f6fb",
   "metadata": {},
   "outputs": [],
   "source": [
    "num = int(input())\n",
    "const = num % 10\n",
    "flag = True\n",
    "while num != 0:\n",
    "    last_digit = num % 10\n",
    "    if last_digit < const:\n",
    "        flag = False\n",
    "    const = last_digit\n",
    "    num = num // 10\n",
    "if flag == False:\n",
    "    print('NO')\n",
    "elif last_digit >= const:\n",
    "    print('YES')"
   ]
  },
  {
   "cell_type": "markdown",
   "id": "003dee44",
   "metadata": {},
   "source": [
    "## 13. Звездный треугольник\t\n",
    "\n",
    "Дано нечетное натуральное число n. Программа печатает равнобедренный звездный треугольник с основанием, равным n."
   ]
  },
  {
   "cell_type": "code",
   "execution_count": null,
   "id": "5192d8db",
   "metadata": {},
   "outputs": [],
   "source": [
    "n = int(input())\n",
    "for i in range(1, n // 2 + 2):\n",
    "    print(i * '*', end='')\n",
    "    print()\n",
    "for i in range(n // 2, 0, -1):\n",
    "    print(i * '*', end='')\n",
    "    print()"
   ]
  },
  {
   "cell_type": "markdown",
   "id": "2af2eeac",
   "metadata": {},
   "source": [
    "## 14. Делители\t\n",
    "\n",
    "На вход программе подается два натуральных числа a и b (a < b). Программа находит натуральное число из отрезка [a;b] с максимальной суммой делителей."
   ]
  },
  {
   "cell_type": "code",
   "execution_count": null,
   "id": "c045cecf",
   "metadata": {},
   "outputs": [],
   "source": [
    "a, b = int(input()), int(input())\n",
    "sum_of_div = 0\n",
    "num = 0\n",
    "max_summa = 0\n",
    "for num_in_string in range(a, b + 1):\n",
    "    for div_of_num_in_string in range(1, b + 1):\n",
    "        if num_in_string % div_of_num_in_string == 0:\n",
    "            sum_of_div += div_of_num_in_string\n",
    "    if sum_of_div >= max_summa:\n",
    "        max_summa = sum_of_div\n",
    "        num = num_in_string\n",
    "    sum_of_div = 0\n",
    "print(num, max_summa)"
   ]
  },
  {
   "cell_type": "markdown",
   "id": "70036931",
   "metadata": {},
   "source": [
    "## 15. Цифровой корень\t\n",
    "\n",
    "Программа находит цифровой корень натурального числа n."
   ]
  },
  {
   "cell_type": "code",
   "execution_count": null,
   "id": "79f0109e",
   "metadata": {},
   "outputs": [],
   "source": [
    "n = int(input())\n",
    "count = 0\n",
    "total = 0\n",
    "result = 0\n",
    "while n != 0:\n",
    "    last_digit = n % 10\n",
    "    count += last_digit\n",
    "    n = n // 10\n",
    "if count < 10:\n",
    "    print(count)\n",
    "elif count > 9:\n",
    "    while count != 0:\n",
    "        last_count = count % 10\n",
    "        total += last_count\n",
    "        count = count // 10\n",
    "    if total < 10:\n",
    "        print(total)\n",
    "    elif total > 10:\n",
    "        while total != 0:\n",
    "            last_total = total % 10\n",
    "            result += last_total\n",
    "            total = total // 10\n",
    "        print(result)"
   ]
  },
  {
   "cell_type": "markdown",
   "id": "36b15548",
   "metadata": {},
   "source": [
    "## 16. Шифр Цезаря\t\n",
    "\n",
    "Программа выводит одну строку – декодированное сообщение. В первой строке дается число n (1 ≤ n ≤ 25) – сдвиг, во второй строке даётся закодированное сообщение в виде строки со строчными латинскими буквами."
   ]
  },
  {
   "cell_type": "code",
   "execution_count": null,
   "id": "66bd20f5",
   "metadata": {},
   "outputs": [],
   "source": [
    "n = int(input())\n",
    "s = input()\n",
    "for i in range(len(s)):\n",
    "    num1 = ord(s[i]) + (26 - n)\n",
    "    if 97 <= num1 <= 122:\n",
    "        print(chr(num1), end='')\n",
    "    elif num1 > 122:\n",
    "        num2 = ord(s[i]) - n\n",
    "        print(chr(num2), end='')"
   ]
  },
  {
   "cell_type": "markdown",
   "id": "291073d9",
   "metadata": {},
   "source": [
    "## 17. k-ая буква слова\t\n",
    "\n",
    "На вход программе подается натуральное число n и n строк, а затем число k. Программа выводит k-ую букву из введенных строк на одной строке без пробелов."
   ]
  },
  {
   "cell_type": "code",
   "execution_count": null,
   "id": "69ce6ca0",
   "metadata": {},
   "outputs": [],
   "source": [
    "n = int(input())\n",
    "list1 = []\n",
    "for i in range(n):\n",
    "    list1.append(input())\n",
    "k = int(input())\n",
    "list2 = []\n",
    "for j in range(len(list1)):\n",
    "    if len(list1[j]) >= k:\n",
    "        print((list1[j])[k-1], end='')"
   ]
  },
  {
   "cell_type": "markdown",
   "id": "067a3fd0",
   "metadata": {},
   "source": [
    "## 18. Google search\t\n",
    "\n",
    "На вход программе подается натуральное число n, затем n строк, затем число k — количество поисковых запросов, затем k строк — поисковые запросы. Программа выводит все введенные строки, в которых встречаются все поисковые запросы."
   ]
  },
  {
   "cell_type": "code",
   "execution_count": null,
   "id": "bd00f5b1",
   "metadata": {},
   "outputs": [],
   "source": [
    "n = int(input())\n",
    "list_of_string = []\n",
    "for i in range(n):\n",
    "    string = input()\n",
    "    list_of_string.append(string)\n",
    "k = int(input())\n",
    "list_req = []\n",
    "for j in range(k):\n",
    "    request = input()\n",
    "    list_req.append(request)\n",
    "for h in range(len(list_of_string)):\n",
    "    count = 0\n",
    "    for d in range(len(list_req)):\n",
    "        if list_req[d].lower() in list_of_string[h].lower():\n",
    "            count += 1\n",
    "    if count == len(list_req):\n",
    "        print(list_of_string[h])"
   ]
  },
  {
   "cell_type": "markdown",
   "id": "1084ac68",
   "metadata": {},
   "source": [
    "## 19. Корректный ip-адрес\t\n",
    "\n",
    "Программа определяет является ли введенная строка текста корректным ip-адресом. ip-адрес является корректным, если все 4 числа находятся в диапазоне от 0 до 255 включительно."
   ]
  },
  {
   "cell_type": "code",
   "execution_count": null,
   "id": "f2740e76",
   "metadata": {},
   "outputs": [],
   "source": [
    "s = input().split('.')\n",
    "flag = True\n",
    "for i in range(len(s)):\n",
    "    if 0 <= int(s[i]) <= 255:\n",
    "        continue\n",
    "    else:\n",
    "        flag = False\n",
    "if flag == True:\n",
    "    print('ДА')\n",
    "else:\n",
    "    print('НЕТ')"
   ]
  },
  {
   "cell_type": "markdown",
   "id": "6b57f7c1",
   "metadata": {},
   "source": [
    "## 20. Количество совпадающих пар\t\n",
    "\n",
    "На вход программе подается строка текста, содержащая натуральные числа. Из данной строки формируется список чисел. Программа подсчитывает сколько в полученном списке пар элементов, равных друг другу. Считается, что любые два элемента, равные друг другу образуют одну пару, которую необходимо посчитать."
   ]
  },
  {
   "cell_type": "code",
   "execution_count": null,
   "id": "e5e6ed78",
   "metadata": {},
   "outputs": [],
   "source": [
    "s = input().split()\n",
    "count = 0\n",
    "for i in range(len(s)):\n",
    "    for j in range(i+1, len(s)):\n",
    "        if s[i] == s[j]:\n",
    "            count += 1\n",
    "print(count)"
   ]
  },
  {
   "cell_type": "markdown",
   "id": "7fde33b8",
   "metadata": {},
   "source": [
    "## 21. Перестановка min и max\t\n",
    "\n",
    "На вход программе подается строка текста, содержащая различные натуральные числа. Из данной строки формируется список чисел. Программа меняет местами минимальный и максимальный элемент этого списка."
   ]
  },
  {
   "cell_type": "code",
   "execution_count": null,
   "id": "613fe84e",
   "metadata": {},
   "outputs": [],
   "source": [
    "s = input().split()\n",
    "M = s[0]\n",
    "m = s[0]\n",
    "max_position = 0\n",
    "min_position = 0\n",
    "for i in range(len(s)):\n",
    "    if int(s[i]) >= int(M):\n",
    "        M = s[i]\n",
    "        max_position = s.index(s[i])\n",
    "    elif int(s[i]) <= int(m):\n",
    "        m = s[i]\n",
    "        min_position = s.index(s[i])\n",
    "s.insert(max_position, m)\n",
    "s.pop(max_position + 1)\n",
    "s.insert(min_position, M)\n",
    "s.pop(min_position + 1)\n",
    "print(*s)"
   ]
  },
  {
   "cell_type": "markdown",
   "id": "a21755b6",
   "metadata": {},
   "source": [
    "## 22. Простое число\t\n",
    "\n",
    "Программа принимает в качестве аргумента натуральное число и возвращает значение True если число является простым и False в противном случае."
   ]
  },
  {
   "cell_type": "code",
   "execution_count": null,
   "id": "8eec394b",
   "metadata": {},
   "outputs": [],
   "source": [
    "def is_prime(num):\n",
    "    counter = 0\n",
    "    for i in range(1, num + 1):\n",
    "        if num > 1 and num % i == 0:\n",
    "            counter += 1\n",
    "    if counter == 2:\n",
    "        return True\n",
    "    else:\n",
    "        return False\n",
    "n = int(input())\n",
    "print(is_prime(n))"
   ]
  },
  {
   "cell_type": "markdown",
   "id": "f0e8da60",
   "metadata": {},
   "source": [
    "## 23. Следующее простое число\t\n",
    "\n",
    "Программа принимает в качестве аргумента натуральное число num и возвращает первое простое число большее числа num."
   ]
  },
  {
   "cell_type": "code",
   "execution_count": null,
   "id": "244620cd",
   "metadata": {},
   "outputs": [],
   "source": [
    "def get_next_prime(num):\n",
    "    num += 1\n",
    "    counter = 0\n",
    "    for i in range(1, num + 1):\n",
    "        if num > 1 and num % i == 0:\n",
    "            counter += 1\n",
    "    if counter == 2:\n",
    "        return num\n",
    "    else:\n",
    "        return get_next_prime(num)\n",
    "    \n",
    "n = int(input())\n",
    "print(get_next_prime(n))"
   ]
  },
  {
   "cell_type": "markdown",
   "id": "23d00b01",
   "metadata": {},
   "source": [
    "## 24. Надёжный пароль\t\n",
    "\n",
    "Программа принимает в качестве строковое значение пароля password и возвращает значение True если пароль является надежным и False в противном случае. Пароль надёжный если: его длина не менее 8 символов, содержит как минимум одну заглавную букву, содержит как минимум одну строчную букву, содержит хотя бы одну цифру."
   ]
  },
  {
   "cell_type": "code",
   "execution_count": null,
   "id": "175b0608",
   "metadata": {},
   "outputs": [],
   "source": [
    "def is_password_good(password):\n",
    "    counter_u = 0\n",
    "    counter_l = 0\n",
    "    counter_d = 0\n",
    "    for i in range(len(password)):\n",
    "        if password[i].isupper():\n",
    "            counter_u += 1\n",
    "        elif password[i].islower():\n",
    "            counter_l += 1\n",
    "        elif password[i].isdigit():\n",
    "            counter_d += 1\n",
    "    if len(password) > 7 and counter_d > 0 and counter_u > 0 and counter_l > 0:\n",
    "        return True\n",
    "    else:\n",
    "        return False\n",
    "    \n",
    "txt = input()\n",
    "print(is_password_good(txt))"
   ]
  },
  {
   "cell_type": "markdown",
   "id": "9ed18b6c",
   "metadata": {},
   "source": [
    "## 25. Палиндром\t\n",
    "\n",
    "Программа принимает в качестве аргумента строку text и возвращает значение True если указанный текст является палиндромом и False в противном случае. Игнорируется регистр, пробелы и спец. символы"
   ]
  },
  {
   "cell_type": "code",
   "execution_count": null,
   "id": "65b538a2",
   "metadata": {},
   "outputs": [],
   "source": [
    "def is_palindrome(text):\n",
    "    text2 = ''\n",
    "    for i in range(len(text)):\n",
    "        if text[i] not in (' ', ',', '.', '!', '?', '-'):\n",
    "            text2 += text[i].lower()\n",
    "    if text2 == text2[::-1]:\n",
    "        return True\n",
    "    else:\n",
    "        return False\n",
    "\n",
    "txt = input()\n",
    "print(is_palindrome(txt))"
   ]
  },
  {
   "cell_type": "markdown",
   "id": "ce9d2a25",
   "metadata": {},
   "source": [
    "## 26. Пароль PYTHON банка\t\n",
    "\n",
    "Программа принимает в качестве аргумента строковое значение пароля password и возвращает значение True если пароль является действительным паролем PYTHON банка и False в противном случае. Действительный пароль PYTHON банка имеет вид a:b:c, где a, b и c – натуральные числа. Число a – палиндром, число b – простое, число c – четное"
   ]
  },
  {
   "cell_type": "code",
   "execution_count": null,
   "id": "73237d31",
   "metadata": {},
   "outputs": [],
   "source": [
    "def is_valid_password(password):\n",
    "    password = password.split(':')\n",
    "    a = password[0]\n",
    "    b = password[1]\n",
    "    c = password[2]\n",
    "    counter_a = 0\n",
    "    counter_b = 0\n",
    "    if a == a[::-1]:\n",
    "        counter_a += 1\n",
    "    for i in range(1, int(b) +1):\n",
    "        if int(b) % i == 0:\n",
    "            counter_b += 1\n",
    "    if counter_a != 0 and counter_b == 2 and int(c) % 2 == 0 and len(password) == 3:\n",
    "        return True\n",
    "    else:\n",
    "        return False\n",
    "\n",
    "psw = input()\n",
    "print(is_valid_password(psw))"
   ]
  },
  {
   "cell_type": "markdown",
   "id": "987e35a2",
   "metadata": {},
   "source": [
    "## 27. Правильная скобочная последовательность\t\n",
    "\n",
    "Программа принимает в качестве аргумента непустую строку text, состоящую из символов ( и ) и возвращает значение True если поступившая на вход строка является правильной скобочной последовательностью и False в противном случае."
   ]
  },
  {
   "cell_type": "code",
   "execution_count": null,
   "id": "c676f472",
   "metadata": {},
   "outputs": [],
   "source": [
    "def is_correct_bracket(text):\n",
    "    while '()' in text:\n",
    "        text = text.replace('()', '')\n",
    "    if len(text) == 0:\n",
    "        return True\n",
    "    else:\n",
    "        return False\n",
    "\n",
    "txt = input()\n",
    "print(is_correct_bracket(txt))"
   ]
  },
  {
   "cell_type": "markdown",
   "id": "088caf69",
   "metadata": {},
   "source": [
    "## 28. Корни уравнения\t\n",
    "\n",
    "Программа принимает в качестве аргументов три целых числа a, b, c – коэффициенты квадратного уравнения и возвращает его корни в порядке возрастания. Гарантируется, что квадратное уравнение имеет корни."
   ]
  },
  {
   "cell_type": "code",
   "execution_count": null,
   "id": "795de5d3",
   "metadata": {},
   "outputs": [],
   "source": [
    "from math import *\n",
    "\n",
    "def solve(a, b, c):\n",
    "    D = b ** 2 - 4 * a * c\n",
    "    x1 = (-b - sqrt(D)) / (2 * a)\n",
    "    x2 = (-b + sqrt(D)) / (2 * a)\n",
    "    return min(x1, x2), max(x1, x2)\n",
    "\n",
    "a, b, c = int(input()), int(input()), int(input())\n",
    "x1, x2 = solve(a, b, c)\n",
    "print(x1, x2)"
   ]
  },
  {
   "cell_type": "markdown",
   "id": "dddd49dd",
   "metadata": {},
   "source": [
    "## 29. Звездный треугольник\t\n",
    "\n",
    "Программа выводит звездный равнобедренный треугольник с основанием и высотой равными 15 и 8 соответственно"
   ]
  },
  {
   "cell_type": "code",
   "execution_count": null,
   "id": "2315a38d",
   "metadata": {},
   "outputs": [],
   "source": [
    "def draw_triangle():\n",
    "    s = ''\n",
    "    for i in range(1, 16, 2):\n",
    "        s = ' ' * ((15 - i) // 2) + i * '*'\n",
    "        print(s)\n",
    "\n",
    "draw_triangle()"
   ]
  },
  {
   "cell_type": "markdown",
   "id": "eae68e11",
   "metadata": {},
   "source": [
    "## 30. Калькулятор доставки\t\n",
    "\n",
    "Магазин осуществляет доставку для своих товаров по цене 1000 рублей за первый товар и 120 рублей за каждый последующий. Программа принимает в качестве аргумента натуральное число quantity – количество товаров в заказе и возвращает стоимость доставки."
   ]
  },
  {
   "cell_type": "code",
   "execution_count": null,
   "id": "409bcc29",
   "metadata": {},
   "outputs": [],
   "source": [
    "def get_shipping_cost(quantity):\n",
    "    if quantity == 1:\n",
    "        return 1000\n",
    "    elif quantity > 1:\n",
    "        return (quantity - 1) * 120 + 1000\n",
    "\n",
    "n = int(input())\n",
    "print(get_shipping_cost(n))"
   ]
  },
  {
   "cell_type": "markdown",
   "id": "86a8b304",
   "metadata": {},
   "source": [
    "## 31. Биномиальный коэффициент\t\n",
    "\n",
    "Программа принимает в качестве аргументов два натуральных числа n и k и возвращает значение биномиального коэффициента"
   ]
  },
  {
   "cell_type": "code",
   "execution_count": null,
   "id": "0d6b84ed",
   "metadata": {},
   "outputs": [],
   "source": [
    "from math import *\n",
    "\n",
    "def compute_binom(n, k):\n",
    "    N = factorial(n)\n",
    "    K = factorial(k)\n",
    "    B = N / (K * factorial(n-k))\n",
    "    return int(B)\n",
    "\n",
    "n = int(input())\n",
    "k = int(input())\n",
    "print(compute_binom(n, k))"
   ]
  },
  {
   "cell_type": "markdown",
   "id": "a6872d7e",
   "metadata": {},
   "source": [
    "## 32. Число словами\t\n",
    "\n",
    "Программа принимает в качестве аргумента натуральное число num (1≤num ≤99) и возвращает его словесное описание на русском языке."
   ]
  },
  {
   "cell_type": "code",
   "execution_count": null,
   "id": "bc9d510d",
   "metadata": {},
   "outputs": [],
   "source": [
    "def number_to_words(num):\n",
    "    list1 = ['один', 'два', 'три', 'четыре', 'пять', 'шесть', 'семь', 'восемь', 'девять', 'десять', 'одиннадцать', 'двенадцать', 'тринадцать', 'четырнадцать', 'пятнадцать', 'шестнадцать', 'семнадцать', 'восемнадцать', 'девятнадцать', 'двадцать', 'тридцать', 'сорок', 'пятьдесят', 'шестьдесят', 'семьдесят', 'восемьдесят', 'девяносто', '']\n",
    "    if 0 < num < 21:\n",
    "        return list1[num - 1]\n",
    "    elif 21 < num < 100:\n",
    "        variable = list1[num // 10 +17] + ' ' + list1[num % 10 - 1]\n",
    "        return variable\n",
    "\n",
    "n = int(input())\n",
    "print(number_to_words(n))"
   ]
  },
  {
   "cell_type": "markdown",
   "id": "9c6ccf06",
   "metadata": {},
   "source": [
    "## 33. Панграммы\t\n",
    "\n",
    "Программа принимает в качестве аргумента строку текста на английском языке и возвращает значение True если текст является панграммой и False в противном случае."
   ]
  },
  {
   "cell_type": "code",
   "execution_count": null,
   "id": "9d952d81",
   "metadata": {},
   "outputs": [],
   "source": [
    "def is_pangram(text):\n",
    "    list = ['a', 'b', 'c', 'd', 'e', 'f', 'g', 'h', 'i', 'j', 'k', 'l', 'm', 'n', 'o', 'p', 'q', 'r', 's', 't', 'u', 'v', 'w', 'x', 'y', 'z']\n",
    "    counter = 0\n",
    "    text = text.lower()\n",
    "    for i in range(len(list)):\n",
    "        if list[i] in text:\n",
    "            counter += 1\n",
    "    if counter == 26:\n",
    "        return True\n",
    "    else:\n",
    "        return False\n",
    "\n",
    "text = input()\n",
    "print(is_pangram(text))"
   ]
  },
  {
   "cell_type": "markdown",
   "id": "05f3be43",
   "metadata": {},
   "source": [
    "## 34. Числовая угадайка\t\n",
    "Программа генерирует случайное число в диапазоне от 1 до 100 и просит пользователя угадать это число."
   ]
  },
  {
   "cell_type": "code",
   "execution_count": null,
   "id": "caa39f14",
   "metadata": {},
   "outputs": [],
   "source": [
    "import random\n",
    "\n",
    "wish_num = random.randint(1, 100)\n",
    "print('Добро пожаловать в числовую угадайку')\n",
    "\n",
    "def is_valid(num):\n",
    "    if str(num).isdigit() and 1 <= num <= 100:\n",
    "        return True\n",
    "    else:\n",
    "        return False\n",
    "\n",
    "while True:\n",
    "    num = int(input('Введите число: '))\n",
    "    if is_valid(num):\n",
    "        if num < wish_num:\n",
    "            print('Ваше число меньше загаданного, попробуйте еще разок')\n",
    "        elif num > wish_num:\n",
    "            print('Ваше число больше загаданного, попробуйте еще разок')\n",
    "        else:\n",
    "            print('Вы угадали, поздравляем!')\n",
    "            print('Спасибо, что играли в числовую угадайку. Еще увидимся...')\n",
    "            break\n",
    "    else:\n",
    "        print('А может быть все-таки введем целое число от 1 до 100?')  "
   ]
  },
  {
   "cell_type": "markdown",
   "id": "a243c016",
   "metadata": {},
   "source": [
    "## 35. Шар судьбы\t\n",
    "\n",
    "Программа просит пользователя задать некий вопрос, чтобы случайным образом на него ответить."
   ]
  },
  {
   "cell_type": "code",
   "execution_count": null,
   "id": "822b00a7",
   "metadata": {},
   "outputs": [],
   "source": [
    "import random\n",
    "\n",
    "answers = ['Бесспорно', 'Предрешено', 'Никаких сомнений', 'Определённо да', 'Можешь быть уверен в этом', 'Мне кажется - да', 'Вероятнее всего', 'Хорошие перспективы', 'Знаки говорят - да', 'Да', 'Пока неясно, попробуй снова', 'Спроси позже', 'Лучше не рассказывать', 'Сейчас нельзя предсказать', 'Сконцентрируйся и спроси опять', 'Даже не думай', 'Мой ответ - нет', 'По моим данным - нет', 'Перспективы не очень хорошие', 'Весьма сомнительно']\n",
    "print('Привет Мир, я магический шар, и я знаю ответ на любой твой вопрос.')\n",
    "name = input('Как тебя зовут? ')\n",
    "print('Привет,', name)\n",
    "\n",
    "def mag():\n",
    "    flag = True\n",
    "    while flag == True:\n",
    "        question = input('Задай свой вопрос: ')\n",
    "        print(random.choice(answers))\n",
    "        next_question = input('У тебя есть ещё вопросы? ')\n",
    "        if next_question.lower() in 'да':\n",
    "            continue\n",
    "        elif next_question.lower() in 'нет':\n",
    "            flag = False\n",
    "            break\n",
    "        else:\n",
    "            quest = input('Только \"да\" или \"нет\"! ')\n",
    "            if quest.lower() in 'да':\n",
    "                continue\n",
    "            elif quest.lower() in 'нет':\n",
    "                flag = False\n",
    "                break            \n",
    "\n",
    "mag()\n",
    "print('Возвращайся если возникнут вопросы!')"
   ]
  },
  {
   "cell_type": "markdown",
   "id": "d5d78192",
   "metadata": {},
   "source": [
    "## 36. Генератор безопасных паролей\t\n",
    "\n",
    "Программа генерирует заданное количество паролей и включает в себя умную настройку на длину пароля, а также на то, какие символы требуется в него включить, а какие исключить."
   ]
  },
  {
   "cell_type": "code",
   "execution_count": null,
   "id": "42c7c0d7",
   "metadata": {},
   "outputs": [],
   "source": [
    "import random\n",
    "\n",
    "digits = '0123456789'\n",
    "lowercase_letters = 'abcdefghijklmnopqrstuvwxyz'\n",
    "uppercase_letters = 'ABCDEFGHIJKLMNOPQRSTUVWXYZ'\n",
    "punctuation = '!#$%&*+-=?@^_'\n",
    "\n",
    "def generate_password():\n",
    "    chars = ''\n",
    "    count_pas = input('Количество паролей для генерации? ')\n",
    "    l_pas = input('Длина пароля? ')\n",
    "    digit = input('Включать ли цифры 0123456789? ')\n",
    "    if digit.lower() in 'да':\n",
    "        chars += digits\n",
    "    buk_pr = input('Включать ли прописные буквы ABCDEFGHIJKLMNOPQRSTUVWXYZ? ')\n",
    "    if buk_pr.lower() in 'да':\n",
    "        chars += uppercase_letters\n",
    "    buk_str = input('Включать ли строчные буквы abcdefghijklmnopqrstuvwxyz? ')\n",
    "    if buk_str.lower() in 'да':\n",
    "        chars += lowercase_letters\n",
    "    simbol = input('Включать ли символы !#$%&*+-=?@^_? ')\n",
    "    if simbol.lower() in 'да':\n",
    "        chars += punctuation\n",
    "    exception = input('Исключать ли неоднозначные символы il1Lo0O? ')\n",
    "    if exception.lower() in 'да':\n",
    "        for i in range(len(chars)):\n",
    "            if chars[i] not in 'il1Lo0O?':\n",
    "                chars += chars[i]\n",
    "    for k in range(int(count_pas)):\n",
    "        password = ''\n",
    "        for m in range(int(l_pas)):\n",
    "            password += random.choice(chars)\n",
    "        print(password)    \n",
    "\n",
    "generate_password()"
   ]
  },
  {
   "cell_type": "markdown",
   "id": "01c86955",
   "metadata": {},
   "source": [
    "## 37. Шифр Цезаря\t\n",
    "\n",
    "Программе подается строка текста на английском языке. Каждое слово строки зашифровывается с помощью шифра Цезаря (циклического сдвига на длину этого слова). Строчные буквы при этом остаются строчными, а прописные – прописными."
   ]
  },
  {
   "cell_type": "code",
   "execution_count": null,
   "id": "f26e0432",
   "metadata": {},
   "outputs": [],
   "source": [
    "s = input().split()\n",
    "lower_alphabet = 'abcdefghijklmnopqrstuvwxyz'\n",
    "upper_alphabet = 'ABCDEFGHIJKLMNOPQRSTUVWXYZ'\n",
    "chars = '.\",!'\n",
    "\n",
    "for i in range(len(s)):\n",
    "    s2 = ''\n",
    "    shift = len(s[i].strip(chars))\n",
    "    for j in range(len(s[i])):\n",
    "        if s[i][j].isupper():\n",
    "            if (26 - upper_alphabet.find(s[i][j])) > shift:\n",
    "                s2 += upper_alphabet[upper_alphabet.find(s[i][j]) + shift]\n",
    "            elif (26 - upper_alphabet.find(s[i][j])) < shift:\n",
    "                s2 += upper_alphabet[shift - (26 - upper_alphabet.find(s[i][j]))]\n",
    "        if s[i][j].islower():\n",
    "            if (26 - lower_alphabet.find(s[i][j])) > shift:\n",
    "                s2 += lower_alphabet[lower_alphabet.find(s[i][j]) + shift]\n",
    "            elif (26 - lower_alphabet.find(s[i][j])) <= shift:\n",
    "                s2 += lower_alphabet[shift - (26 - lower_alphabet.find(s[i][j]))]\n",
    "        if s[i][j] in chars:\n",
    "            s2 += s[i][j]\n",
    "    print(s2, end=' ')"
   ]
  }
 ],
 "metadata": {
  "interpreter": {
   "hash": "75235cffb50396fcbee054ae3110e1355e144ea4a980138c29341923fab19c19"
  },
  "kernelspec": {
   "display_name": "Python 3.9.7 ('base')",
   "language": "python",
   "name": "python3"
  },
  "language_info": {
   "codemirror_mode": {
    "name": "ipython",
    "version": 3
   },
   "file_extension": ".py",
   "mimetype": "text/x-python",
   "name": "python",
   "nbconvert_exporter": "python",
   "pygments_lexer": "ipython3",
   "version": "3.9.7"
  }
 },
 "nbformat": 4,
 "nbformat_minor": 5
}
